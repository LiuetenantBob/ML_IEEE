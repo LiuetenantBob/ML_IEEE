{
 "cells": [
  {
   "cell_type": "code",
   "execution_count": 2,
   "id": "3f3acd29-4b48-4beb-9ed1-9092f4f1b80e",
   "metadata": {},
   "outputs": [],
   "source": [
    "import cv2\n",
    "import numpy as np"
   ]
  },
  {
   "cell_type": "code",
   "execution_count": 3,
   "id": "01746dc7-4c01-4599-8f41-8036efb97e21",
   "metadata": {},
   "outputs": [],
   "source": [
    "img = cv2.imread(\"Vroom.jpg\", cv2.IMREAD_GRAYSCALE)"
   ]
  },
  {
   "cell_type": "code",
   "execution_count": 4,
   "id": "4e4655df-c4c5-46c1-8ba4-3de2dc5f78b8",
   "metadata": {},
   "outputs": [],
   "source": [
    "img = cv2.resize(img, None, fx = 0.1, fy = 0.1)"
   ]
  },
  {
   "cell_type": "code",
   "execution_count": 8,
   "id": "5d14514f-f4aa-41e5-8b89-95a62f183c1f",
   "metadata": {},
   "outputs": [],
   "source": [
    "sobelX = cv2.Sobel(img, cv2.CV_64F, 1, 0)\n",
    "sobelY = cv2.Sobel(img, cv2.CV_64F, 0, 1)\n",
    "sobel = cv2.addWeighted(sobelX, 0.5, sobelY, 0.5, 0)\n",
    "cv2.imshow(\"Image\", img)\n",
    "cv2.imshow(\"Sobel X\", sobelX)\n",
    "cv2.imshow(\"Sobel Y\", sobelY)\n",
    "cv2.imshow(\"Sobel\", sobel)\n",
    "cv2.waitKey(0)\n",
    "cv2.destroyAllWindows()"
   ]
  },
  {
   "cell_type": "code",
   "execution_count": 6,
   "id": "0f0cbeb6-2cb3-4f7c-8295-5271a0314f47",
   "metadata": {},
   "outputs": [],
   "source": [
    "laplacian = cv2.Laplacian(img, cv2.CV_64F, ksize = 11)\n",
    "cv2.imshow(\"Image\", img)\n",
    "cv2.imshow(\"Laplacian\", laplacian)\n",
    "cv2.waitKey(0)\n",
    "cv2.destroyAllWindows()"
   ]
  },
  {
   "cell_type": "code",
   "execution_count": 7,
   "id": "a6b31782-fdc4-47c0-a3e8-f4870afbe85b",
   "metadata": {},
   "outputs": [],
   "source": [
    "canny = cv2.Canny(img, 125, 400)\n",
    "cv2.imshow(\"Image\", img)\n",
    "cv2.imshow(\"Canny\", canny)\n",
    "cv2.waitKey(0)\n",
    "cv2.destroyAllWindows()"
   ]
  }
 ],
 "metadata": {
  "kernelspec": {
   "display_name": "Python 3 (ipykernel)",
   "language": "python",
   "name": "python3"
  },
  "language_info": {
   "codemirror_mode": {
    "name": "ipython",
    "version": 3
   },
   "file_extension": ".py",
   "mimetype": "text/x-python",
   "name": "python",
   "nbconvert_exporter": "python",
   "pygments_lexer": "ipython3",
   "version": "3.11.5"
  }
 },
 "nbformat": 4,
 "nbformat_minor": 5
}
